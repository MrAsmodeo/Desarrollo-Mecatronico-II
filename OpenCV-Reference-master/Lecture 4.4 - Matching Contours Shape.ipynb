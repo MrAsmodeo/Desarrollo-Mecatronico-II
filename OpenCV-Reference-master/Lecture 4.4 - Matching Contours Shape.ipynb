{
 "cells": [
  {
   "cell_type": "markdown",
   "metadata": {},
   "source": [
    "## Shape Matching"
   ]
  },
  {
   "cell_type": "markdown",
   "metadata": {},
   "source": [
    "**cv2.matchShapes(contour template, contour, method, method parameter)**\n",
    "\n",
    "**Output** – match value (lower values means a closer match)\n",
    "\n",
    "- Contour Template – This is our reference contour that we’re trying to find in the new image\n",
    "- Contour – The individual contour we are checking against\n",
    "- Method – Type of contour matching (1, 2, 3)\n",
    "- Method Parameter – leave alone as 0.0 (not fully utilized in python OpenCV)\n"
   ]
  },
  {
   "cell_type": "code",
   "execution_count": null,
   "metadata": {},
   "outputs": [],
   "source": [
    "import cv2\n",
    "import numpy as np\n",
    "\n",
    "#load template\n",
    "template  = cv2.imread('images/4star.jpg', 0)\n",
    "cv2.imshow('template', template)\n",
    "cv2.waitKey()\n",
    "\n",
    "#load main image\n",
    "main_ungray = cv2.imread('images/shapestomatch.jpg')\n",
    "main = cv2.cvtColor(main_ungray, cv2.COLOR_BGR2GRAY)\n",
    "cv2.imshow('main', main)\n",
    "cv2.waitKey()\n",
    "\n",
    "#threshold boht images\n",
    "_, threshTemplate = cv2.threshold(template, 127,255, cv2.THRESH_BINARY)\n",
    "_, threshMain = cv2.threshold(main, 127,255, cv2.THRESH_BINARY)\n",
    "\n",
    "#contours in template\n",
    "contoursTemplate,_ = cv2.findContours(threshTemplate, cv2.RETR_CCOMP, cv2.CHAIN_APPROX_NONE)\n",
    "sortedContoursTemplate = sorted(contoursTemplate, key = cv2.contourArea, reverse = False)\n",
    "templateContour = sortedContoursTemplate[0]\n",
    "\n",
    "#contours in mainImage\n",
    "contoursMain, _ = cv2.findContours(threshMain, cv2.RETR_CCOMP, cv2.CHAIN_APPROX_NONE)\n",
    "\n",
    "#find matches!!\n",
    "for c in contoursMain:\n",
    "    match = cv2.matchShapes(c, templateContour, 3, 0.0)\n",
    "    print match\n",
    "    if match<0.15:\n",
    "        cv2.drawContours(main_ungray, [c], -1, (255,0,0), 25)\n",
    "        closest_contour = c\n",
    "    else:\n",
    "        closest_contour = []\n",
    "\n",
    "cv2.drawContours(main_ungray, [closest_contour], -1, (0,255,0), 2)\n",
    "cv2.imshow('main', main_ungray)\n",
    "cv2.waitKey(0)\n",
    "\n",
    "cv2.destroyAllWindows()\n"
   ]
  },
  {
   "cell_type": "markdown",
   "metadata": {},
   "source": [
    "http://docs.opencv.org/2.4/modules/imgproc/doc/structural_analysis_and_shape_descriptors.html"
   ]
  },
  {
   "cell_type": "code",
   "execution_count": null,
   "metadata": {
    "collapsed": true
   },
   "outputs": [],
   "source": []
  }
 ],
 "metadata": {
  "kernelspec": {
   "display_name": "Python 2",
   "language": "python",
   "name": "python2"
  },
  "language_info": {
   "codemirror_mode": {
    "name": "ipython",
    "version": 2
   },
   "file_extension": ".py",
   "mimetype": "text/x-python",
   "name": "python",
   "nbconvert_exporter": "python",
   "pygments_lexer": "ipython2",
   "version": "2.7.14"
  }
 },
 "nbformat": 4,
 "nbformat_minor": 1
}
