{
 "cells": [
  {
   "cell_type": "markdown",
   "metadata": {},
   "source": [
    "\n",
    "## Getting Perpsective Transform"
   ]
  },
  {
   "cell_type": "code",
   "execution_count": 1,
   "metadata": {},
   "outputs": [],
   "source": [
    "import cv2\n",
    "import numpy as np\n",
    "import matplotlib.pyplot as plt\n",
    "\n",
    "image = cv2.imread('images/scan.jpg')\n",
    "\n",
    "cv2.imshow('image', image)\n",
    "cv2.waitKey(0)\n",
    "\n",
    "point_A = np.float32([[320,15],[700,215],[85,610],[530,780]])\n",
    "\n",
    "point_B = np.float32([[0,0],[420,0],[0,594],[420,594]])\n",
    "\n",
    "m = cv2.getPerspectiveTransform(point_A, point_B)\n",
    "\n",
    "warped = cv2.warpPerspective(image, m, (420,594))\n",
    "\n",
    "cv2.imshow('un-warped', warped)\n",
    "cv2.waitKey(0)\n",
    "cv2.destroyAllWindows()"
   ]
  },
  {
   "cell_type": "markdown",
   "metadata": {},
   "source": [
    "## In affine transforms you only need 3 coordiantes to obtain the correct transform"
   ]
  },
  {
   "cell_type": "code",
   "execution_count": 3,
   "metadata": {},
   "outputs": [],
   "source": [
    "import cv2\n",
    "import numpy as np\n",
    "import matplotlib.pyplot as plt\n",
    "\n",
    "image = cv2.imread('images/ex2.jpg')\n",
    "\n",
    "rows,cols= image.shape[:2]\n",
    "\n",
    "cv2.imshow('image', image)\n",
    "pointA = np.float32([[320,15],[700,215],[85,610]])\n",
    "pointB = np.float32([[0,0],[420,0],[0,594]])\n",
    "\n",
    "m = cv2.getAffineTransform(pointA, pointB)\n",
    "\n",
    "warped = cv2.warpAffine(image, m, (cols,rows))\n",
    "\n",
    "cv2.imshow('warped Affine', warped)\n",
    "cv2.waitKey(0)\n",
    "cv2.destroyAllWindows()\n"
   ]
  },
  {
   "cell_type": "code",
   "execution_count": null,
   "metadata": {},
   "outputs": [],
   "source": []
  }
 ],
 "metadata": {
  "kernelspec": {
   "display_name": "Python 2",
   "language": "python",
   "name": "python2"
  },
  "language_info": {
   "codemirror_mode": {
    "name": "ipython",
    "version": 2
   },
   "file_extension": ".py",
   "mimetype": "text/x-python",
   "name": "python",
   "nbconvert_exporter": "python",
   "pygments_lexer": "ipython2",
   "version": "2.7.14"
  }
 },
 "nbformat": 4,
 "nbformat_minor": 1
}
