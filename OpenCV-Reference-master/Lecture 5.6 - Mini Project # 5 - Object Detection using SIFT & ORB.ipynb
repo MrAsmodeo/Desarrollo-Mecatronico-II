{
 "cells": [
  {
   "cell_type": "markdown",
   "metadata": {},
   "source": [
    "## Mini Project #5 - Object Detection using SIFT"
   ]
  },
  {
   "cell_type": "code",
   "execution_count": 5,
   "metadata": {},
   "outputs": [
    {
     "name": "stdout",
     "output_type": "stream",
     "text": [
      "exiting now\n"
     ]
    }
   ],
   "source": [
    "import cv2\n",
    "import numpy as np\n",
    "\n",
    "\n",
    "def siftDetector(inputImage, templateImage):\n",
    "    \n",
    "    image1 = cv2.cvtColor(inputImage, cv2.COLOR_BGR2GRAY)\n",
    "    image2 = templateImage\n",
    "    \n",
    "    sift = cv2.SIFT()\n",
    "    \n",
    "    keypoints1, descriptors1 = sift.detectAndCompute(image1, None)\n",
    "    keypoints2, descriptors2 = sift.detectAndCompute(image2, None)\n",
    "    \n",
    "    FLANN_INDEX_KDTREE = 0\n",
    "    \n",
    "    index_params = dict(algorithm = FLANN_INDEX_KDTREE, trees = 3)\n",
    "    search_params = dict(checks = 100)\n",
    "    \n",
    "    flann = cv2.FlannBasedMatcher(index_params, search_params)\n",
    "    \n",
    "    matches = flann.knnMatch(descriptors1, descriptors2, k=2)\n",
    "    \n",
    "    good_matches = []\n",
    "    \n",
    "    for m,n in matches:\n",
    "        if m.distance < 0.7*n.distance:\n",
    "            good_matches.append(m)\n",
    "    return len(good_matches)\n",
    "\n",
    "\n",
    "cap = cv2.VideoCapture(0)\n",
    "imageTemplate = cv2.imread('images/box_in_scene.png',0)\n",
    "\n",
    "while True:\n",
    "    \n",
    "    ret, frame = cap.read()\n",
    "    height, width = frame.shape[:2]\n",
    "    \n",
    "    topLeftX = width/3\n",
    "    topLeftY = height/2 + height/4\n",
    "    bottomRightX = width*2/3\n",
    "    bottomRightY = height/4\n",
    "    \n",
    "    \n",
    "    cv2.rectangle(frame, (topLeftX, topLeftY), (bottomRightX, bottomRightY), (255,0,), 3)\n",
    "    \n",
    "    cropped = frame[bottomRightY:topLeftY, topLeftX:bottomRightX]\n",
    "    \n",
    "    frame = cv2.flip(frame, 1)\n",
    "    \n",
    "    matches = siftDetector(cropped, imageTemplate)\n",
    "    \n",
    "    cv2.putText(frame, str(matches), (450,450), cv2.FONT_HERSHEY_COMPLEX,2,(0,255,0), 1)\n",
    "    \n",
    "    threshold = 10\n",
    "    \n",
    "    if matches>threshold:\n",
    "        cv2.putText(frame,'Object Found',(50,50), cv2.FONT_HERSHEY_COMPLEX, 2 ,(0,255,0), 2)\n",
    "        cv2.rectangle(frame, (topLeftX, topLeftY), (bottomRightX, bottomRightY), 3)\n",
    "    \n",
    "    cv2.imshow('image', frame)\n",
    "    if cv2.waitKey(1) == 13: #13 is the Enter Key\n",
    "        print 'exiting now'\n",
    "        break\n",
    "    \n",
    "cap.release()\n",
    "cv2.destroyAllWindows()"
   ]
  },
  {
   "cell_type": "markdown",
   "metadata": {},
   "source": [
    "#### Flannbased matching is quite fast, but not the most accurate. Other matching methods include:\n",
    "\n",
    "- BruteForce\n",
    "- BruteForce-SL2 (not in the documentation, BUT this is the one that skeeps the squared root !)\n",
    "- BruteForce-L1\n",
    "- BruteForce-Hamming\n",
    "- BruteForce-Hamming(2)\n"
   ]
  },
  {
   "cell_type": "markdown",
   "metadata": {},
   "source": [
    "## Object Detection using ORB"
   ]
  },
  {
   "cell_type": "code",
   "execution_count": 2,
   "metadata": {},
   "outputs": [
    {
     "ename": "AttributeError",
     "evalue": "'NoneType' object has no attribute 'shape'",
     "output_type": "error",
     "traceback": [
      "\u001b[1;31m---------------------------------------------------------------------------\u001b[0m",
      "\u001b[1;31mAttributeError\u001b[0m                            Traceback (most recent call last)",
      "\u001b[1;32m<ipython-input-2-8dd165a8b310>\u001b[0m in \u001b[0;36m<module>\u001b[1;34m()\u001b[0m\n\u001b[0;32m     21\u001b[0m     \u001b[0mret\u001b[0m\u001b[1;33m,\u001b[0m\u001b[0mframe\u001b[0m \u001b[1;33m=\u001b[0m \u001b[0mcap\u001b[0m\u001b[1;33m.\u001b[0m\u001b[0mread\u001b[0m\u001b[1;33m(\u001b[0m\u001b[1;33m)\u001b[0m\u001b[1;33m\u001b[0m\u001b[0m\n\u001b[0;32m     22\u001b[0m \u001b[1;33m\u001b[0m\u001b[0m\n\u001b[1;32m---> 23\u001b[1;33m     \u001b[0mheight\u001b[0m\u001b[1;33m,\u001b[0m\u001b[0mwidth\u001b[0m \u001b[1;33m=\u001b[0m \u001b[0mframe\u001b[0m\u001b[1;33m.\u001b[0m\u001b[0mshape\u001b[0m\u001b[1;33m[\u001b[0m\u001b[1;33m:\u001b[0m\u001b[1;36m2\u001b[0m\u001b[1;33m]\u001b[0m\u001b[1;33m\u001b[0m\u001b[0m\n\u001b[0m\u001b[0;32m     24\u001b[0m     \u001b[0mtopLeftY\u001b[0m \u001b[1;33m=\u001b[0m \u001b[0mheight\u001b[0m\u001b[1;33m*\u001b[0m\u001b[1;36m3\u001b[0m\u001b[1;33m/\u001b[0m\u001b[1;36m4\u001b[0m\u001b[1;33m\u001b[0m\u001b[0m\n\u001b[0;32m     25\u001b[0m     \u001b[0mbottomRightY\u001b[0m \u001b[1;33m=\u001b[0m \u001b[0mheight\u001b[0m\u001b[1;33m/\u001b[0m\u001b[1;36m4\u001b[0m\u001b[1;33m\u001b[0m\u001b[0m\n",
      "\u001b[1;31mAttributeError\u001b[0m: 'NoneType' object has no attribute 'shape'"
     ]
    }
   ],
   "source": [
    "import cv2\n",
    "import numpy as np\n",
    "\n",
    "\n",
    "def orbDetector(inputImage, templateImage):\n",
    "    \n",
    "    gray = cv2.color(inputImage, cv2.COLOR_BGR2GRAY)\n",
    "    \n",
    "    orb = cv2.ORB(1000, 1.2)\n",
    "    \n",
    "    kp1, des1 = orb.dectetAndCompute(gray, None)\n",
    "    kp2, des2 = orb.detectAndCompute(templateImage)\n",
    "\n",
    "\n",
    "cap = cv2.VideoCapture(0)\n",
    "imageTemplate = cv2.imread('images/box_in_scene.png',0)\n",
    "\n",
    "\n",
    "while True:\n",
    "    \n",
    "    ret,frame = cap.read()\n",
    "    \n",
    "    height,width = frame.shape[:2]\n",
    "    topLeftY = height*3/4\n",
    "    bottomRightY = height/4\n",
    "    topLeftX = width/3\n",
    "    bottomRightX = width*2/3\n",
    "    \n",
    "    cv2.rectangle(frame, (topLeftX, topLeftY), (bottomRightX, bottomRightY), 255, 3)\n",
    "    \n",
    "    cropped = frame[bottomRightY:topLeftY, topLeftX:bottomRightX]\n",
    "    \n",
    "    matches = orbDetector(cropped, imageTemplate)\n",
    "    \n",
    "    outputString = 'matches: ' + str(matches)\n",
    "    \n",
    "    threshold = 350\n",
    "    \n",
    "    if matches > threshold:\n",
    "        cv2.rectangle(frame, (topLeftX, topLeftY), (bottomRightX, bottomRightY), (0,255,0),3)\n",
    "        cv2.putText(frame, 'object found', (50,50), cv2.FONT_HERSHEY_COMPLEX,2,(0,255,0),2)\n",
    "\n",
    "    cv2.imshow('image', image)\n",
    "    \n",
    "cap.release()\n",
    "cv2.destroyAllWindows()"
   ]
  },
  {
   "cell_type": "code",
   "execution_count": null,
   "metadata": {},
   "outputs": [],
   "source": []
  }
 ],
 "metadata": {
  "kernelspec": {
   "display_name": "Python 2",
   "language": "python",
   "name": "python2"
  },
  "language_info": {
   "codemirror_mode": {
    "name": "ipython",
    "version": 2
   },
   "file_extension": ".py",
   "mimetype": "text/x-python",
   "name": "python",
   "nbconvert_exporter": "python",
   "pygments_lexer": "ipython2",
   "version": "2.7.14"
  }
 },
 "nbformat": 4,
 "nbformat_minor": 1
}
