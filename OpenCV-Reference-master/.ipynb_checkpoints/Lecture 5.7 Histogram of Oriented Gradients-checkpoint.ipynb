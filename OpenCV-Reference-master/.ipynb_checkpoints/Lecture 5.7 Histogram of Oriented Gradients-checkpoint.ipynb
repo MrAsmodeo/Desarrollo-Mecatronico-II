{
 "cells": [
  {
   "cell_type": "markdown",
   "metadata": {},
   "source": [
    "## Histogram of Oriented Gradients\n",
    "\n",
    "- http://stackoverflow.com/questions/6090399/get-hog-image-features-from-opencv-python\n",
    "- http://www.juergenwiki.de/work/wiki/doku.php?id=public:hog_descriptor_computation_and_visualization"
   ]
  },
  {
   "cell_type": "code",
   "execution_count": 31,
   "metadata": {},
   "outputs": [
    {
     "name": "stdout",
     "output_type": "stream",
     "text": [
      "(519L, 778L)\n",
      "776\n",
      "512\n",
      "16\n",
      "16\n"
     ]
    }
   ],
   "source": [
    "import numpy as np\n",
    "import cv2\n",
    "import matplotlib.pyplot as plt\n",
    "\n",
    "\n",
    "image = cv2.imread('images/elephant.jpg')\n",
    "\n",
    "gray = cv2.cvtColor(image, cv2.COLOR_BGR2GRAY)\n",
    "\n",
    "print gray.shape\n",
    "\n",
    "cv2.imshow('image', image)\n",
    "cv2.waitKey(0)\n",
    "\n",
    "cellSize = (8,8)\n",
    "blockSize = (2,2)\n",
    "\n",
    "nbins = 9\n",
    "\n",
    "\n",
    "print gray.shape[1] // cellSize[1] * cellSize[1]\n",
    "print gray.shape[0] // cellSize[0] * cellSize[0]\n",
    "print blockSize[1] * cellSize[1]\n",
    "print blockSize[0] * cellSize[0]\n",
    "\n",
    "hog = cv2.HOGDescriptor(_winSize=(gray.shape[1] // cellSize[1] * cellSize[1],gray.shape[0] // cellSize[0] * cellSize[0]),\n",
    "                        _blockSize=(blockSize[1] * cellSize[1],blockSize[0] * cellSize[0]),\n",
    "                        _blockStride=(cellSize[1], cellSize[0]),\n",
    "                        _cellSize=(cellSize[1], cellSize[0]),\n",
    "                        _nbins=nbins)\n",
    "\n",
    "n_cells = (gray.shape[0]//cellSize[0], gray.shape[1]//cellSize[1])\n",
    "\n",
    "hog_feats = hog.compute(gray).reshape(n_cells[1] - blockSize[1] + 1,\n",
    "                        n_cells[0] - blockSize[0] + 1,\n",
    "                        blockSize[0], blockSize[1], nbins).transpose((1, 0, 2, 3, 4)) \n",
    "\n",
    "# Create our gradients array with nbin dimensions to store gradient orientations \n",
    "gradients = np.zeros((n_cells[0], n_cells[1], nbins))                                      \n",
    "cv2.destroyAllWindows()"
   ]
  },
  {
   "cell_type": "code",
   "execution_count": null,
   "metadata": {
    "collapsed": true
   },
   "outputs": [],
   "source": []
  },
  {
   "cell_type": "code",
   "execution_count": null,
   "metadata": {
    "collapsed": true
   },
   "outputs": [],
   "source": []
  }
 ],
 "metadata": {
  "kernelspec": {
   "display_name": "Python 2",
   "language": "python",
   "name": "python2"
  },
  "language_info": {
   "codemirror_mode": {
    "name": "ipython",
    "version": 2
   },
   "file_extension": ".py",
   "mimetype": "text/x-python",
   "name": "python",
   "nbconvert_exporter": "python",
   "pygments_lexer": "ipython2",
   "version": "2.7.14"
  }
 },
 "nbformat": 4,
 "nbformat_minor": 1
}
