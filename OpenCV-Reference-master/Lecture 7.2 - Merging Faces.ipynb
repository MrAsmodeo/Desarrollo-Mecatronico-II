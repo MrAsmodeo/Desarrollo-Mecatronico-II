{
 "cells": [
  {
   "cell_type": "markdown",
   "metadata": {},
   "source": [
    "## Merging Faces"
   ]
  },
  {
   "cell_type": "code",
   "execution_count": null,
   "metadata": {
    "collapsed": true
   },
   "outputs": [],
   "source": [
    "#!/usr/bin/python\n",
    "\n",
    "# Copyright (c) 2015 Matthew Earl\n",
    "# \n",
    "# Permission is hereby granted, free of charge, to any person obtaining a copy\n",
    "# of this software and associated documentation files (the \"Software\"), to deal\n",
    "# in the Software without restriction, including without limitation the rights\n",
    "# to use, copy, modify, merge, publish, distribute, sublicense, and/or sell\n",
    "# copies of the Software, and to permit persons to whom the Software is\n",
    "# furnished to do so, subject to the following conditions:\n",
    "# \n",
    "#     The above copyright notice and this permission notice shall be included\n",
    "#     in all copies or substantial portions of the Software.\n",
    "# \n",
    "#     THE SOFTWARE IS PROVIDED \"AS IS\", WITHOUT WARRANTY OF ANY KIND, EXPRESS\n",
    "#     OR IMPLIED, INCLUDING BUT NOT LIMITED TO THE WARRANTIES OF\n",
    "#     MERCHANTABILITY, FITNESS FOR A PARTICULAR PURPOSE AND NONINFRINGEMENT. IN\n",
    "#     NO EVENT SHALL THE AUTHORS OR COPYRIGHT HOLDERS BE LIABLE FOR ANY CLAIM,\n",
    "#     DAMAGES OR OTHER LIABILITY, WHETHER IN AN ACTION OF CONTRACT, TORT OR\n",
    "#     OTHERWISE, ARISING FROM, OUT OF OR IN CONNECTION WITH THE SOFTWARE OR THE\n",
    "#     USE OR OTHER DEALINGS IN THE SOFTWARE.\n",
    "\n",
    "\"\"\"\n",
    "This is the code behind the Switching Eds blog post:\n",
    "    http://matthewearl.github.io/2015/07/28/switching-eds-with-python/\n",
    "See the above for an explanation of the code below.\n",
    "To run the script you'll need to install dlib (http://dlib.net) including its\n",
    "Python bindings, and OpenCV. You'll also need to obtain the trained model from\n",
    "sourceforge:\n",
    "    http://sourceforge.net/projects/dclib/files/dlib/v18.10/shape_predictor_68_face_landmarks.dat.bz2\n",
    "Unzip with `bunzip2` and change `PREDICTOR_PATH` to refer to this file. The\n",
    "script is run like so:\n",
    "    ./faceswap.py <head image> <face image>\n",
    "If successful, a file `output.jpg` will be produced with the facial features\n",
    "from `<head image>` replaced with the facial features from `<face image>`.\n",
    "\"\"\""
   ]
  },
  {
   "cell_type": "code",
   "execution_count": 3,
   "metadata": {},
   "outputs": [
    {
     "ename": "IndentationError",
     "evalue": "expected an indented block (<ipython-input-3-11206b84b76e>, line 29)",
     "output_type": "error",
     "traceback": [
      "\u001b[1;36m  File \u001b[1;32m\"<ipython-input-3-11206b84b76e>\"\u001b[1;36m, line \u001b[1;32m29\u001b[0m\n\u001b[1;33m    def get_landmarks(image):\u001b[0m\n\u001b[1;37m      ^\u001b[0m\n\u001b[1;31mIndentationError\u001b[0m\u001b[1;31m:\u001b[0m expected an indented block\n"
     ]
    }
   ],
   "source": [
    "import cv2\n",
    "import dlib\n",
    "import numpy\n",
    "import time\n",
    "import sys\n",
    "\n",
    "scale_factor = 0.5\n",
    "\n",
    "FEATHER_AMOUNT = 11\n",
    "SCALE_FACTOR = 1 \n",
    "FACE_POINTS = list(range(17, 68))\n",
    "MOUTH_POINTS = list(range(48, 61))\n",
    "RIGHT_BROW_POINTS = list(range(17, 22))\n",
    "LEFT_BROW_POINTS = list(range(22, 27))\n",
    "RIGHT_EYE_POINTS = list(range(36, 42))\n",
    "LEFT_EYE_POINTS = list(range(42, 48))\n",
    "NOSE_POINTS = list(range(27, 35))\n",
    "JAW_POINTS = list(range(0, 17))\n",
    "\n",
    "detector = dlib.get_frontal_face_detector()\n",
    "predictor = dlib.get_shape_predictor(PREDICTOR_PATH)\n",
    "\n",
    "\n",
    "class TooManyFaces:\n",
    "    pass\n",
    "\n",
    "class NoFaces:\n",
    "    pass\n",
    "\n",
    "def get_landmarks(image):\n",
    "    \n",
    "    rects = detector(im, 1)\n",
    "    if len(rects) == 0:\n",
    "        raise NoFaces\n",
    "    if len(rects)> 1:\n",
    "        raise TooManyFaces        \n",
    "    return numpy.matrix([[p.x,p.y] for p in predictor(im, rects[0]).parts()])\n",
    "\n",
    "\n",
    "def read_im_landmarks(image):\n",
    "    im = image\n",
    "    im = cv2.resize(im,None, fx=1,fy=1, interpolation=cv2.INTER_LINEAR)\n",
    "    im = cv2.resize(im, im.shape[1]*SCALE_FACTOR, im.shape[0]*SCALE_FACTOR)\n",
    "    landmarks = get_landmarks(im)\n",
    "    \n",
    "    return im, landmarks\n",
    "\n",
    "def swapping(foreground, background):\n",
    "    fg, flandmarks = read_im_landmarks(foreground)\n",
    "    bg, blandmarks = read_im_landmarks(background)\n",
    "    \n",
    "\n",
    "image1 = cv2.imread('images/Hillary.jpg')\n",
    "image2 = cv2.imread('images/Trump.jpg')\n",
    "\n",
    "swapped = swapping(image1, image2)\n",
    "\n",
    "cv2.imshow('swapped', swapped)\n",
    "cv2.waitKey(0)\n",
    "cv2.destroyAllWindows()"
   ]
  },
  {
   "cell_type": "code",
   "execution_count": null,
   "metadata": {},
   "outputs": [],
   "source": [
    "\n"
   ]
  }
 ],
 "metadata": {
  "kernelspec": {
   "display_name": "Python 2",
   "language": "python",
   "name": "python2"
  },
  "language_info": {
   "codemirror_mode": {
    "name": "ipython",
    "version": 2
   },
   "file_extension": ".py",
   "mimetype": "text/x-python",
   "name": "python",
   "nbconvert_exporter": "python",
   "pygments_lexer": "ipython2",
   "version": "2.7.14"
  }
 },
 "nbformat": 4,
 "nbformat_minor": 1
}
