{
 "cells": [
  {
   "cell_type": "markdown",
   "metadata": {},
   "source": [
    "## Arithmetic Operations\n",
    "\n",
    "These are simple operations that allow us to directly add or subract to the color intensity.\n",
    "\n",
    "Calculates the per-element operation of two arrays. The overall effect is increasing or decreasing brightness."
   ]
  },
  {
   "cell_type": "code",
   "execution_count": 8,
   "metadata": {},
   "outputs": [
    {
     "name": "stdout",
     "output_type": "stream",
     "text": [
      "(830L, 1245L, 3L)\n"
     ]
    }
   ],
   "source": [
    "import cv2\n",
    "import numpy as np\n",
    "\n",
    "image = cv2.imread('images/input.jpg')\n",
    "height = image.shape[0]\n",
    "width = image.shape[1]\n",
    "depth  = image.shape[2]\n",
    "\n",
    "M = np.ones([height,width, depth], dtype=\"uint8\")*25\n",
    "\n",
    "added = cv2.add(image,M)\n",
    "\n",
    "cv2.imshow('added', added)\n",
    "cv2.waitKey(0)\n",
    "cv2.destroyAllWindows()\n",
    "\n",
    "subtracted = cv2.subtract('')\n"
   ]
  },
  {
   "cell_type": "code",
   "execution_count": 5,
   "metadata": {},
   "outputs": [
    {
     "data": {
      "text/plain": [
       "array([[[75, 75, 75],\n",
       "        [75, 75, 75],\n",
       "        [75, 75, 75],\n",
       "        ..., \n",
       "        [75, 75, 75],\n",
       "        [75, 75, 75],\n",
       "        [75, 75, 75]],\n",
       "\n",
       "       [[75, 75, 75],\n",
       "        [75, 75, 75],\n",
       "        [75, 75, 75],\n",
       "        ..., \n",
       "        [75, 75, 75],\n",
       "        [75, 75, 75],\n",
       "        [75, 75, 75]],\n",
       "\n",
       "       [[75, 75, 75],\n",
       "        [75, 75, 75],\n",
       "        [75, 75, 75],\n",
       "        ..., \n",
       "        [75, 75, 75],\n",
       "        [75, 75, 75],\n",
       "        [75, 75, 75]],\n",
       "\n",
       "       ..., \n",
       "       [[75, 75, 75],\n",
       "        [75, 75, 75],\n",
       "        [75, 75, 75],\n",
       "        ..., \n",
       "        [75, 75, 75],\n",
       "        [75, 75, 75],\n",
       "        [75, 75, 75]],\n",
       "\n",
       "       [[75, 75, 75],\n",
       "        [75, 75, 75],\n",
       "        [75, 75, 75],\n",
       "        ..., \n",
       "        [75, 75, 75],\n",
       "        [75, 75, 75],\n",
       "        [75, 75, 75]],\n",
       "\n",
       "       [[75, 75, 75],\n",
       "        [75, 75, 75],\n",
       "        [75, 75, 75],\n",
       "        ..., \n",
       "        [75, 75, 75],\n",
       "        [75, 75, 75],\n",
       "        [75, 75, 75]]], dtype=uint8)"
      ]
     },
     "execution_count": 5,
     "metadata": {},
     "output_type": "execute_result"
    }
   ],
   "source": [
    "M = np.ones(image.shape, dtype = \"uint8\") * 75 \n",
    "M"
   ]
  },
  {
   "cell_type": "code",
   "execution_count": null,
   "metadata": {
    "collapsed": true
   },
   "outputs": [],
   "source": []
  }
 ],
 "metadata": {
  "kernelspec": {
   "display_name": "Python 2",
   "language": "python",
   "name": "python2"
  },
  "language_info": {
   "codemirror_mode": {
    "name": "ipython",
    "version": 2
   },
   "file_extension": ".py",
   "mimetype": "text/x-python",
   "name": "python",
   "nbconvert_exporter": "python",
   "pygments_lexer": "ipython2",
   "version": "2.7.14"
  }
 },
 "nbformat": 4,
 "nbformat_minor": 1
}
