{
 "cells": [
  {
   "cell_type": "markdown",
   "metadata": {},
   "source": [
    "   ## Line Detection - Using Hough Lines\n",
    "   \n",
    "**cv2.HoughLines**(binarized/thresholded image, 𝜌 accuracy, 𝜃 accuracy, threshold)\n",
    "- Threshold here is the minimum vote for it to be considered a line\n"
   ]
  },
  {
   "cell_type": "code",
   "execution_count": 9,
   "metadata": {},
   "outputs": [
    {
     "name": "stdout",
     "output_type": "stream",
     "text": [
      "[[[   4.           2.8797932]\n",
      "  [   2.           2.8797932]\n",
      "  [ 637.           1.2566371]\n",
      "  [ -77.           2.8274333]\n",
      "  [ 507.           1.2740903]\n",
      "  [-476.           2.6179938]\n",
      "  [ 505.           1.2740903]\n",
      "  [-130.           2.7925267]\n",
      "  [ 379.           1.2915436]\n",
      "  [ 323.           1.2915436]\n",
      "  [ -21.           2.86234  ]\n",
      "  [ 634.           1.2566371]\n",
      "  [ -24.           2.86234  ]\n",
      "  [ 574.           1.2566371]\n",
      "  [-387.           2.6703537]\n",
      "  [  21.           2.8797932]\n",
      "  [-284.           2.7052603]\n",
      "  [-429.           2.6354473]\n",
      "  [ -75.           2.8274333]\n",
      "  [-128.           2.7925267]\n",
      "  [-485.           2.6354473]\n",
      "  [ 381.           1.2915436]\n",
      "  [-282.           2.7052603]\n",
      "  [ 121.           1.3089969]\n",
      "  [ 384.           1.2740903]\n",
      "  [ 437.           1.2915436]\n",
      "  [ 442.           1.2740903]\n",
      "  [ 218.           1.2915436]\n",
      "  [ 214.           1.3089969]\n",
      "  [ 569.           1.2740903]\n",
      "  [ 268.           1.3089969]\n",
      "  [-505.           2.6179938]\n",
      "  [-230.           2.7227137]\n",
      "  [-385.           2.6703537]]]\n"
     ]
    }
   ],
   "source": [
    "import cv2\n",
    "import numpy as np\n",
    "\n",
    "image = cv2.imread('images/soduku.jpg')\n",
    "\n",
    "#grey and canny out\n",
    "gray = cv2.cvtColor(image, cv2.COLOR_BGR2GRAY)\n",
    "edges = cv2.Canny(gray, 100,170, apertureSize = 3)\n",
    "\n",
    "lines = cv2.HoughLines(edges, 1, np.pi/180, 240)\n",
    "\n",
    "print(lines)\n",
    "\n",
    "for rho, theta in lines[0]:\n",
    "    a = np.cos(theta)\n",
    "    b = np.sin(theta)\n",
    "    x0 = a*rho\n",
    "    y0 = b*rho\n",
    "    x1 = int(x0+1000*(-b))\n",
    "    y1 = int(y0+1000*(a))\n",
    "    \n",
    "    x2 = int(x0-1000*(-b))\n",
    "    y2 = int(y0-1000*(a))\n",
    "    \n",
    "    cv2.line(image, (x1,y1),(x2,y2), (255,0,0),2 )\n",
    "\n",
    "cv2.imshow('image', image)\n",
    "cv2.waitKey(0)\n",
    "cv2.destroyAllWindows()"
   ]
  },
  {
   "cell_type": "markdown",
   "metadata": {},
   "source": [
    "### Probabilistic Hough Lines\n",
    "\n",
    "**cv2.HoughLinesP(binarized image, 𝜌 accuracy, 𝜃 accuracy, threshold, minimum line length, max line gap)\n",
    "\n",
    "\n"
   ]
  },
  {
   "cell_type": "code",
   "execution_count": 27,
   "metadata": {},
   "outputs": [
    {
     "name": "stdout",
     "output_type": "stream",
     "text": [
      "(1L, 2620L, 4L)\n"
     ]
    }
   ],
   "source": [
    "import cv2\n",
    "import numpy as np\n",
    "\n",
    "\n",
    "image = cv2.imread('images/soduku.jpg')\n",
    "\n",
    "#greyscale and canny\n",
    "grey = cv2.cvtColor(image, cv2.COLOR_BGR2GRAY)\n",
    "canny = cv2.Canny(gray, 100,170, apertureSize=3)\n",
    "\n",
    "lines = cv2.HoughLinesP(edges,1,np.pi/180,100,10)\n",
    "print lines.shape\n",
    "\n",
    "for x1, y1, x2, y2 in lines[0]:\n",
    "    cv2.line(image, (x1,y1),(x2,y2), (0,255,0),3)\n",
    "    \n",
    "cv2.imshow('image', image)\n",
    "cv2.waitKey(0)\n",
    "cv2.destroyAllWindows()\n"
   ]
  },
  {
   "cell_type": "markdown",
   "metadata": {},
   "source": [
    "http://cmp.felk.cvut.cz/~matas/papers/matas-bmvc98.pdf"
   ]
  },
  {
   "cell_type": "code",
   "execution_count": null,
   "metadata": {
    "collapsed": true
   },
   "outputs": [],
   "source": []
  },
  {
   "cell_type": "markdown",
   "metadata": {},
   "source": [
    "\n",
    "\n"
   ]
  }
 ],
 "metadata": {
  "kernelspec": {
   "display_name": "Python 2",
   "language": "python",
   "name": "python2"
  },
  "language_info": {
   "codemirror_mode": {
    "name": "ipython",
    "version": 2
   },
   "file_extension": ".py",
   "mimetype": "text/x-python",
   "name": "python",
   "nbconvert_exporter": "python",
   "pygments_lexer": "ipython2",
   "version": "2.7.14"
  }
 },
 "nbformat": 4,
 "nbformat_minor": 1
}
