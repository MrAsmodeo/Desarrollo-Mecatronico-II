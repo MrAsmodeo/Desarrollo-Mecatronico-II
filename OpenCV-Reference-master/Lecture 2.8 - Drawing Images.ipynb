{
 "cells": [
  {
   "cell_type": "markdown",
   "metadata": {},
   "source": [
    "## Drawing images and shapes using OpenCV\n",
    "\n",
    "Let's start off my making a black square"
   ]
  },
  {
   "cell_type": "code",
   "execution_count": 1,
   "metadata": {},
   "outputs": [],
   "source": [
    "import cv2\n",
    "import numpy as np\n",
    "\n",
    "# Create a black image\n",
    "image = np.zeros((512,512,3), np.uint8)\n",
    "\n",
    "# Can we make this in black and white?\n",
    "image_bw = np.zeros((512,512), np.uint8)\n",
    "\n",
    "cv2.imshow(\"Black Rectangle (Color)\", image)\n",
    "cv2.imshow(\"Black Rectangle (B&W)\", image_bw)\n",
    "\n",
    "cv2.waitKey(0)\n",
    "cv2.destroyAllWindows()"
   ]
  },
  {
   "cell_type": "markdown",
   "metadata": {},
   "source": [
    "### Let's draw a line over our black sqare\n",
    "\n",
    "cv2.line(image, starting cordinates, ending cordinates, color, thickness)"
   ]
  },
  {
   "cell_type": "code",
   "execution_count": 3,
   "metadata": {},
   "outputs": [],
   "source": [
    "# Draw a diagonal blue line of thickness of 5 pixels\n",
    "image = np.zeros((512,512,3), np.uint8)\n",
    "cv2.line(image, (10,10), (500,500), (100,100,100), 10)\n",
    "cv2.imshow('drawn' , image)\n",
    "\n",
    "cv2.waitKey(0)\n",
    "cv2.destroyAllWindows()"
   ]
  },
  {
   "cell_type": "markdown",
   "metadata": {},
   "source": [
    "### Let's now draw a rectangle\n",
    "\n",
    "cv2.rectangle(image, starting vertex, opposite vertex, color, thickness)"
   ]
  },
  {
   "cell_type": "code",
   "execution_count": 7,
   "metadata": {},
   "outputs": [],
   "source": [
    "# Draw a Rectangle in\n",
    "image = np.zeros((512,512,3), np.uint8)\n",
    "\n",
    "cv2.rectangle(image,(100,100), (500,500), (123,123,123),-1)\n",
    "\n",
    "cv2.imshow('image', image)\n",
    "cv2.waitKey(0)\n",
    "cv2.destroyAllWindows()"
   ]
  },
  {
   "cell_type": "markdown",
   "metadata": {},
   "source": [
    "### How about cirlcles?\n",
    "\n",
    "cv2.cirlce(image, center, radius, color, fill)"
   ]
  },
  {
   "cell_type": "code",
   "execution_count": 10,
   "metadata": {},
   "outputs": [],
   "source": [
    "image = np.zeros((512,512,3),np.uint8)\n",
    "\n",
    "cv2.circle(image, (350,350), 100, (200,200,200),5)\n",
    "\n",
    "cv2.imshow('circle',image)\n",
    "cv2.waitKey(0)\n",
    "cv2.destroyAllWindows()"
   ]
  },
  {
   "cell_type": "markdown",
   "metadata": {},
   "source": [
    "## And polygons?"
   ]
  },
  {
   "cell_type": "code",
   "execution_count": 16,
   "metadata": {},
   "outputs": [],
   "source": [
    "image = np.zeros((512,512,3), np.uint8)\n",
    "\n",
    "pts = np.array([[10,50], [100,200], [200,250], [120,400]], np.int32)\n",
    "\n",
    "cv2.polylines(image, [pts], True, (0,0,200), 101)\n",
    "cv2.imshow('polygonm', image)\n",
    "cv2.waitKey(0)\n",
    "cv2.destroyAllWindows()\n"
   ]
  },
  {
   "cell_type": "markdown",
   "metadata": {},
   "source": [
    "### Let's even add text with cv2.putText\n",
    "\n",
    "cv2.putText(image, 'Text to Display', bottom left starting point, Font, Font Size, Color, Thickness)\n",
    "\n",
    "- FONT_HERSHEY_SIMPLEX, FONT_HERSHEY_PLAIN\n",
    "- FONT_HERSHEY_DUPLEX,FONT_HERSHEY_COMPLEX \n",
    "- FONT_HERSHEY_TRIPLEX, FONT_HERSHEY_COMPLEX_SMALL\n",
    "- FONT_HERSHEY_SCRIPT_SIMPLEX\n",
    "- FONT_HERSHEY_SCRIPT_COMPLEX"
   ]
  },
  {
   "cell_type": "code",
   "execution_count": 28,
   "metadata": {},
   "outputs": [],
   "source": [
    "image = np.zeros((512,512,3), np.uint8)\n",
    "\n",
    "cv2.putText(image, 'Hello world', (100,100), cv2.FONT_HERSHEY_SCRIPT_COMPLEX, 1, (100,160,0), 2)\n",
    "cv2.circle(image, (400,400), 50, (100,200,255),-1)\n",
    "cv2.imshow(\"image\", image)\n",
    "cv2.waitKey(0)\n",
    "cv2.destroyAllWindows()"
   ]
  },
  {
   "cell_type": "code",
   "execution_count": null,
   "metadata": {
    "collapsed": true
   },
   "outputs": [],
   "source": []
  }
 ],
 "metadata": {
  "kernelspec": {
   "display_name": "Python 2",
   "language": "python",
   "name": "python2"
  },
  "language_info": {
   "codemirror_mode": {
    "name": "ipython",
    "version": 2
   },
   "file_extension": ".py",
   "mimetype": "text/x-python",
   "name": "python",
   "nbconvert_exporter": "python",
   "pygments_lexer": "ipython2",
   "version": "2.7.14"
  }
 },
 "nbformat": 4,
 "nbformat_minor": 1
}
