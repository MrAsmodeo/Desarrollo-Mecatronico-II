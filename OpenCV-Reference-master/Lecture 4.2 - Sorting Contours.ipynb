{
 "cells": [
  {
   "cell_type": "markdown",
   "metadata": {},
   "source": [
    "## Sorting Contours\n",
    "\n",
    "We can sort contours in many ways."
   ]
  },
  {
   "cell_type": "code",
   "execution_count": 2,
   "metadata": {},
   "outputs": [
    {
     "name": "stdout",
     "output_type": "stream",
     "text": [
      "('number of contour shapes is', 4)\n"
     ]
    }
   ],
   "source": [
    "import cv2\n",
    "import numpy as np\n",
    "\n",
    "#load image\n",
    "image = cv2.imread('images/bunchofshapes.jpg')\n",
    "cv2.imshow('image', image)\n",
    "cv2.waitKey(0)\n",
    "\n",
    "#create blank black image\n",
    "black_image = np.zeros((image.shape[0], image.shape[1], 3))\n",
    "\n",
    "imageCopy = image.copy()\n",
    "\n",
    "#convert image to grayscale\n",
    "gray = cv2.cvtColor(image, cv2.COLOR_BGR2GRAY)\n",
    "\n",
    "#find canny\n",
    "edged = cv2.Canny(gray, 50, 200)\n",
    "cv2.imshow('edged', edged)\n",
    "cv2.waitKey(0)\n",
    "\n",
    "#find contours in canny image\n",
    "contours,heirarchy = cv2.findContours(edged.copy(), cv2.RETR_EXTERNAL, cv2.CHAIN_APPROX_NONE)\n",
    "print(\"number of contour shapes is\", len(contours))\n",
    "\n",
    "#draw out contours on black\n",
    "cv2.drawContours(black_image, contours, -1, (0,255,0),5)\n",
    "cv2.imshow('contours on black', black_image)\n",
    "cv2.waitKey(0)\n",
    "\n",
    "#draw out contours on original\n",
    "cv2.drawContours(imageCopy,  contours, -1, (0,255,0),5)\n",
    "cv2.imshow('contours on original copy', imageCopy)\n",
    "cv2.waitKey(0)\n",
    "\n",
    "cv2.destroyAllWindows()\n",
    "\n"
   ]
  },
  {
   "cell_type": "markdown",
   "metadata": {},
   "source": [
    "### Let's now sort by area"
   ]
  },
  {
   "cell_type": "code",
   "execution_count": 3,
   "metadata": {},
   "outputs": [],
   "source": [
    "import cv2\n",
    "import numpy as np\n",
    "\n",
    "#function for calculation contour area\n",
    "def get_contour_area(contours):\n",
    "    allAreas= []\n",
    "    for cnt in contours:\n",
    "        area = cv2.contourArea(cnt)\n",
    "        allAreas.append(area)\n",
    "    return allAreas\n",
    "\n",
    "image = cv2.imread('images/bunchofshapes.jpg')\n",
    "imageCopy = image.copy()\n",
    "\n",
    "\n",
    "#sort contours from large to small\n",
    "sorted_contours = sorted(contours, key = cv2.contourArea, reverse=True)\n",
    "\n",
    "counter = 0\n",
    "\n",
    "for contour in sorted_contours:\n",
    "    counter = counter+1\n",
    "    imageCopy = image.copy()\n",
    "    cv2.drawContours(imageCopy, [contour],-1, (0,0,255),3)\n",
    "    cv2.imshow('contour by area'+ str(counter), imageCopy)\n",
    "    cv2.waitKey(0)\n",
    "    \n",
    "cv2.destroyAllWindows()\n"
   ]
  },
  {
   "cell_type": "code",
   "execution_count": 5,
   "metadata": {},
   "outputs": [],
   "source": [
    "import cv2\n",
    "import numpy as np\n",
    "\n",
    "\n",
    "def x_cord_contour(contours):\n",
    "    #returns the x coordinate of the contour centre\n",
    "    if cv2.contourArea(contours)>1:\n",
    "        m = cv2.moments(contours)\n",
    "        return(int(m['m10']/m['m00']))\n",
    "    \n",
    "def label_contour_centre(image, c):\n",
    "    #places red cirle on centre of contour\n",
    "    m = cv2.moments(c)\n",
    "    cx = int(m['m10']/m['m00'])\n",
    "    cy = int(m['m01']/m['m00'])\n",
    "    cv2.circle(image, (cx,cy),10, (0,255,255), -1)\n",
    "    return image\n",
    "    \n",
    "    \n",
    "image = cv2.imread('images/bunchofshapes.jpg')\n",
    "imageCopy = image.copy()\n",
    "\n",
    "for (i,c) in enumerate(contours):\n",
    "    withRedCircle = label_contour_centre(imageCopy, c)\n",
    "\n",
    "cv2.imshow('show red circle', imageCopy)\n",
    "cv2.waitKey(0)\n",
    "cv2.destroyAllWindows()\n",
    "\n",
    "\n",
    "#sorting left to right for the contours\n",
    "contours_left_to_right = sorted(contours, key = x_cord_contour, reverse = False)\n",
    "\n",
    "for (i,c) in enumerate(contours_left_to_right):\n",
    "    m = cv2.moments(c)\n",
    "    cx = int(m['m10']/m['m00'])\n",
    "    cy = int(m['m01']/m['m00'])\n",
    "    \n",
    "    cv2.putText(image, str(i+1), (cx,cy), cv2.FONT_HERSHEY_SIMPLEX,1,(0,255,0),2)\n",
    "    cv2.imshow('going from left to right', image)\n",
    "    cv2.waitKey()\n",
    "    cv2.destroyAllWindows()\n",
    "\n",
    "    \n",
    "    "
   ]
  }
 ],
 "metadata": {
  "kernelspec": {
   "display_name": "Python 2",
   "language": "python",
   "name": "python2"
  },
  "language_info": {
   "codemirror_mode": {
    "name": "ipython",
    "version": 2
   },
   "file_extension": ".py",
   "mimetype": "text/x-python",
   "name": "python",
   "nbconvert_exporter": "python",
   "pygments_lexer": "ipython2",
   "version": "2.7.14"
  }
 },
 "nbformat": 4,
 "nbformat_minor": 1
}
