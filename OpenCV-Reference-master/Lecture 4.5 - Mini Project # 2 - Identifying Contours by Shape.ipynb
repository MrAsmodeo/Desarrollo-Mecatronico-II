{
 "cells": [
  {
   "cell_type": "markdown",
   "metadata": {},
   "source": [
    "## Mini Project 2 - Identifiy Contours by Shape"
   ]
  },
  {
   "cell_type": "code",
   "execution_count": 33,
   "metadata": {},
   "outputs": [
    {
     "name": "stdout",
     "output_type": "stream",
     "text": [
      "16\n",
      "4\n",
      "(63, 71, 295, 156)\n",
      "10\n",
      "3\n",
      "4\n",
      "(745, 69, 147, 146)\n"
     ]
    }
   ],
   "source": [
    "import numpy as np\n",
    "import cv2\n",
    "\n",
    "\n",
    "image = cv2.imread('images/someshapes.jpg')\n",
    "imageGray = cv2.cvtColor(image, cv2.COLOR_BGR2GRAY)\n",
    "\n",
    "cv2.imshow('identifying shapes', image)\n",
    "cv2.waitKey(0)\n",
    "\n",
    "_, thresh = cv2.threshold(imageGray, 127,255, cv2.THRESH_BINARY)\n",
    "\n",
    "contours, _ = cv2.findContours(thresh, cv2.RETR_LIST, cv2.CHAIN_APPROX_NONE)\n",
    "contoursSorted = sorted(contours,  key = cv2.contourArea, reverse = True)\n",
    "contoursSorted = contoursSorted[1:]\n",
    "\n",
    "for c in contoursSorted:\n",
    "    \n",
    "    approxEdges = cv2.approxPolyDP(c, 0.01*cv2.arcLength(c, True), True)\n",
    "    print len(approxEdges)\n",
    "    \n",
    "    if len(approxEdges) == 3:\n",
    "        shape_name = 'triangle'\n",
    "        cv2.drawContours(image, [c], -1, (0,255,0), -1)\n",
    "        M = cv2.moments(c)\n",
    "        cx = int(M['m10']/M['m00'])\n",
    "        cy = int(M['m01']/M['m00'])\n",
    "        cv2.putText(image, shape_name, (cx-50,cy), cv2.FONT_HERSHEY_SIMPLEX, 1, (0,0,0), 1)\n",
    "    \n",
    "    if len(approxEdges) == 4:\n",
    "        x,y,w,h = cv2.boundingRect(c)\n",
    "        print cv2.boundingRect(c)\n",
    "        if abs(w-h) < 3:\n",
    "            shape_name = 'square'\n",
    "            shape_color = (100,100,0)\n",
    "        else:\n",
    "            shape_name = 'rectangle'\n",
    "            shape_color = (200,255,0)\n",
    "        \n",
    "        M = cv2.moments(c)\n",
    "        cx = int(M['m10']/M['m00'])\n",
    "        cy = int(M['m01']/M['m00'])\n",
    "        \n",
    "        cv2.drawContours(image, [c], -1, shape_color, -1)\n",
    "        cv2.putText(image, shape_name, (cx-50, cy), cv2.FONT_HERSHEY_SIMPLEX,1,(0,0,0),1)\n",
    "\n",
    "    if len(approxEdges) == 10:\n",
    "        shape_name = 'star'\n",
    "        cv2.drawContours(image, [c], -1, (255,0,0),-1)\n",
    "        M = cv2.moments(c)\n",
    "        cx = int(M['m10']/M['m00'])\n",
    "        cy = int(M['m01']/M['m00'])\n",
    "        cv2.putText(image, shape_name, (cx-50, cy), cv2.FONT_HERSHEY_SIMPLEX, 1, (0,0,0), 1)\n",
    "        \n",
    "    if len(approxEdges) >10:\n",
    "        shape_name = 'circle'\n",
    "        cv2.drawContours(image, [c], -1, (0,0,255), -1)\n",
    "        M = cv2.moments(c)\n",
    "        cx = int(M['m10']/M['m00'])\n",
    "        cy = int(M['m01']/M['m00'])\n",
    "        cv2.putText(image, shape_name, (cx-50, cy), cv2.FONT_HERSHEY_SIMPLEX, 1, (0,0,0), 1)\n",
    "\n",
    "        \n",
    "cv2.imshow('identifying shapes', image)\n",
    "cv2.waitKey(0)\n",
    "\n",
    "cv2.destroyAllWindows()\n",
    "\n"
   ]
  },
  {
   "cell_type": "code",
   "execution_count": null,
   "metadata": {},
   "outputs": [],
   "source": []
  }
 ],
 "metadata": {
  "kernelspec": {
   "display_name": "Python 2",
   "language": "python",
   "name": "python2"
  },
  "language_info": {
   "codemirror_mode": {
    "name": "ipython",
    "version": 2
   },
   "file_extension": ".py",
   "mimetype": "text/x-python",
   "name": "python",
   "nbconvert_exporter": "python",
   "pygments_lexer": "ipython2",
   "version": "2.7.14"
  }
 },
 "nbformat": 4,
 "nbformat_minor": 1
}
