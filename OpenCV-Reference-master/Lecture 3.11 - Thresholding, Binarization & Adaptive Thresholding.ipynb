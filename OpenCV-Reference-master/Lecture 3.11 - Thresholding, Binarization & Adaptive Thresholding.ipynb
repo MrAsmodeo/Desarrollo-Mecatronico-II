{
 "cells": [
  {
   "cell_type": "markdown",
   "metadata": {},
   "source": [
    "## Thresholding, Binarization & Adaptive Thresholding\n",
    "\n",
    "\n",
    "In thresholding, we convert a grey scale image to it's binary form"
   ]
  },
  {
   "cell_type": "code",
   "execution_count": 15,
   "metadata": {},
   "outputs": [],
   "source": [
    "import cv2\n",
    "import numpy as np\n",
    "\n",
    "# Load our image as greyscale \n",
    "image = cv2.imread('images/gradient.jpg', 0)\n",
    "cv2.imshow('Original', image)\n",
    "cv2.waitKey(0)\n",
    "cv2.destroyAllWindows()\n",
    "\n",
    "ret,thresh1 = cv2.threshold(image, 127,255, cv2.THRESH_BINARY)\n",
    "cv2.imshow('binary', thresh1)\n",
    "cv2.waitKey(0)\n",
    "cv2.destroyAllWindows()\n",
    "\n",
    "ret,thresh2 = cv2.threshold(image, 127,255, cv2.THRESH_BINARY_INV)\n",
    "cv2.imshow('binrayInv', thresh2)\n",
    "cv2.waitKey(0)\n",
    "cv2.destroyAllWindows()\n",
    "\n",
    "ret, thresh3 = cv2.threshold(image, 127,255, cv2.THRESH_TRUNC)\n",
    "cv2.imshow('threshTrunc', thresh3)\n",
    "cv2.waitKey(0)\n",
    "cv2.destroyAllWindows()\n",
    "\n",
    "ret,thresh4 = cv2.threshold(image, 127,255, cv2. THRESH_TOZERO)\n",
    "cv2.imshow('threshToZero', thresh4)\n",
    "cv2.waitKey(0)\n",
    "cv2.destroyAllWindows()"
   ]
  },
  {
   "cell_type": "markdown",
   "metadata": {},
   "source": [
    "### Is there a better way off thresholding?\n",
    "\n",
    "The biggest downfall of those simple threshold methods is that we need to provide the threshold value (i.e. the 127 value we used previously).\n",
    "#### What if there was a smarter way of doing this?\n",
    "\n",
    "There is with, Adaptive thresholding. \n",
    "\n"
   ]
  },
  {
   "cell_type": "code",
   "execution_count": 37,
   "metadata": {},
   "outputs": [],
   "source": [
    "import cv2\n",
    "import numpy as np\n",
    "\n",
    "\n",
    "image = cv2.imread('images/Origin_of_Species.jpg',0)\n",
    "\n",
    "cv2.imshow('original', image)\n",
    "cv2.waitKey(0)\n",
    "cv2.destroyAllWindows()\n",
    "\n",
    "ret,thresh1 =cv2.threshold(image, 127, 255, cv2.THRESH_BINARY)\n",
    "cv2.imshow('thresh1',thresh1)\n",
    "cv2.waitKey(0)\n",
    "cv2.destroyAllWindows()\n",
    "\n",
    "image = cv2.GaussianBlur(image, (3,3), 0)\n",
    "\n",
    "thresh2 = cv2.adaptiveThreshold(image, 255, cv2.ADAPTIVE_THRESH_MEAN_C, cv2.THRESH_BINARY,3,5)\n",
    "cv2.imshow(\"Adaptive mean threshold\", thresh2)\n",
    "cv2.waitKey(0)\n",
    "\n",
    "_, th2 = cv2.threshold(image, 0,255, cv2.THRESH_BINARY + cv2.THRESH_OTSU)\n",
    "cv2.imshow(\"otsus thresh\", th2)\n",
    "cv2.waitKey(0)\n",
    "imageBlurred = cv2.GaussianBlur(image, (3,3), 0)\n",
    "\n",
    "_, th3 = cv2.threshold(imageBlurred, 0,255, cv2.THRESH_BINARY + cv2.THRESH_OTSU)\n",
    "cv2.imshow(\"otsu after gaussian 2nd time\", th3)\n",
    "cv2.waitKey(0)\n",
    "\n",
    "cv2.destroyAllWindows()\n"
   ]
  },
  {
   "cell_type": "code",
   "execution_count": null,
   "metadata": {
    "collapsed": true
   },
   "outputs": [],
   "source": []
  },
  {
   "cell_type": "code",
   "execution_count": null,
   "metadata": {
    "collapsed": true
   },
   "outputs": [],
   "source": []
  }
 ],
 "metadata": {
  "kernelspec": {
   "display_name": "Python 2",
   "language": "python",
   "name": "python2"
  },
  "language_info": {
   "codemirror_mode": {
    "name": "ipython",
    "version": 2
   },
   "file_extension": ".py",
   "mimetype": "text/x-python",
   "name": "python",
   "nbconvert_exporter": "python",
   "pygments_lexer": "ipython2",
   "version": "2.7.14"
  }
 },
 "nbformat": 4,
 "nbformat_minor": 1
}
